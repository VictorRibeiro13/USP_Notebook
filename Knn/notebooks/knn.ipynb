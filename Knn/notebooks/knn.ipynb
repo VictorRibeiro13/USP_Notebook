{
 "cells": [
  {
   "cell_type": "code",
   "execution_count": 1,
   "metadata": {},
   "outputs": [],
   "source": [
    "import numpy as np\n",
    "\n",
    "def euclidean_distance(x1, x2):\n",
    "    return np.sqrt(np.sum((x1 - x2) ** 2))\n",
    "\n",
    "# 1. Implementar classe KNN\n",
    "class KNN:\n",
    "    def __init__(self, k=3):\n",
    "        self.k = k\n",
    "        \n",
    "    def fit(self, X, y):\n",
    "        self.X_train = X\n",
    "        self.y_train = y\n",
    "        \n",
    "    def predict(self, X):\n",
    "        y_pred = []\n",
    "        for i in range(X.shape[0]):\n",
    "            distances = []\n",
    "            for j in range(self.X_train.shape[0]):\n",
    "                dist = euclidean_distance(X.iloc[i], self.X_train.iloc[j])\n",
    "                distances.append((dist, self.y_train.iloc[j]))\n",
    "            distances = sorted(distances)\n",
    "            k_nearest = distances[:self.k]\n",
    "            k_nearest_labels = [label for (_, label) in k_nearest]\n",
    "            most_common = max(set(k_nearest_labels), key=k_nearest_labels.count)\n",
    "            y_pred.append(most_common)\n",
    "        return y_pred"
   ]
  }
 ],
 "metadata": {
  "kernelspec": {
   "display_name": ".venv",
   "language": "python",
   "name": "python3"
  },
  "language_info": {
   "codemirror_mode": {
    "name": "ipython",
    "version": 3
   },
   "file_extension": ".py",
   "mimetype": "text/x-python",
   "name": "python",
   "nbconvert_exporter": "python",
   "pygments_lexer": "ipython3",
   "version": "3.11.2"
  },
  "orig_nbformat": 4,
  "vscode": {
   "interpreter": {
    "hash": "09f69714469b24b519276449f6ebafe5f0bf14402a8841aba16cf6a453f814aa"
   }
  }
 },
 "nbformat": 4,
 "nbformat_minor": 2
}
